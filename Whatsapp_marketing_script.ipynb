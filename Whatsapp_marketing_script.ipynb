{
 "cells": [
  {
   "cell_type": "code",
   "execution_count": null,
   "id": "62c054a4",
   "metadata": {},
   "outputs": [],
   "source": [
    "import time\n",
    "import pandas as pd\n",
    "import pywhatkit as pwk\n",
    "from selenium import webdriver\n",
    "from docx import Document\n",
    "\n",
    "# Read the Word file containing the contacts\n",
    "contacts_file = 'contacts_modified.docx'\n",
    "doc = Document(contacts_file)\n",
    "\n",
    "# Path to the Chrome WebDriver\n",
    "webdriver_path = 'E:\\Downloads\\chromedriver_win32\\chromedriver.exe'\n",
    "\n",
    "#Initialize the Chrome WebDriver\n",
    "driver = webdriver.Chrome(webdriver_path)\n",
    "\n",
    "# Open WhatsApp Web\n",
    "driver.get('https://web.whatsapp.com')\n",
    "print(\"Scan the QR code to log in and press Enter\")\n",
    "input()\n",
    "\n",
    "# Wait for the user to log in\n",
    "time.sleep(5)\n",
    "\n",
    "# Iterate over each contact\n",
    "for para in doc.paragraphs:\n",
    "    line = para.text.strip()\n",
    "    \n",
    "    \n",
    "    \n",
    "    \n",
    "    \n",
    "    if line:\n",
    "        \n",
    "\n",
    "        # Search for the contact\n",
    "        \n",
    "        #pwk.sendwhatmsg_instantly(f\"{line}\", \" \", tab_close=True, wait_time=15)\n",
    "\n",
    "        # Attach the PDF file and send the message\n",
    "        pwk.sendwhats_image(line, 'ISO.png',tab_close=True,wait_time=10)\n",
    "\n",
    "        print(f\"Message sent to {line} \")\n",
    "\n",
    "# Close the browser\n",
    "driver.quit()\n"
   ]
  }
 ],
 "metadata": {
  "kernelspec": {
   "display_name": "Python 3 (ipykernel)",
   "language": "python",
   "name": "python3"
  },
  "language_info": {
   "codemirror_mode": {
    "name": "ipython",
    "version": 3
   },
   "file_extension": ".py",
   "mimetype": "text/x-python",
   "name": "python",
   "nbconvert_exporter": "python",
   "pygments_lexer": "ipython3",
   "version": "3.9.7"
  }
 },
 "nbformat": 4,
 "nbformat_minor": 5
}
