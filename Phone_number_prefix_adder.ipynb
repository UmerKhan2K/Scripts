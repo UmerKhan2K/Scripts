{
 "cells": [
  {
   "cell_type": "code",
   "execution_count": null,
   "id": "d58d6245",
   "metadata": {},
   "outputs": [],
   "source": [
    "from docx import Document\n",
    "\n",
    "def replace_numbers_with_prefix(filename):\n",
    "    # Load the document\n",
    "    doc = Document(filename)\n",
    "\n",
    "    # Iterate through paragraphs\n",
    "    for paragraph in doc.paragraphs:\n",
    "        # Split the paragraph into lines\n",
    "        lines = paragraph.text.split('\\n')\n",
    "\n",
    "        # Iterate through lines\n",
    "        for i, line in enumerate(lines):\n",
    "            # Check if line is an 11-digit number starting with '0'\n",
    "            if line.isdigit() and len(line) == 11 and line.startswith('0'):\n",
    "                # Replace the leading '0' with '+92'\n",
    "                lines[i] = '+92 ' + line[1:]\n",
    "\n",
    "        # Join the modified lines back into the paragraph\n",
    "        paragraph.text = '\\n'.join(lines)\n",
    "\n",
    "    # Save the modified document to a new file\n",
    "    new_filename = filename.split('.docx')[0] + '_modified.docx'\n",
    "    doc.save(new_filename)\n",
    "\n",
    "    print(f\"Modified document saved as: {new_filename}\")\n",
    "\n",
    "\n",
    "# Provide the filename of the .docx file\n",
    "filename = 'path/to/your/file.docx'\n",
    "\n",
    "# Call the function to replace numbers with prefix\n",
    "replace_numbers_with_prefix('contacts.docx')\n"
   ]
  }
 ],
 "metadata": {
  "kernelspec": {
   "display_name": "Python 3 (ipykernel)",
   "language": "python",
   "name": "python3"
  },
  "language_info": {
   "codemirror_mode": {
    "name": "ipython",
    "version": 3
   },
   "file_extension": ".py",
   "mimetype": "text/x-python",
   "name": "python",
   "nbconvert_exporter": "python",
   "pygments_lexer": "ipython3",
   "version": "3.9.7"
  }
 },
 "nbformat": 4,
 "nbformat_minor": 5
}
