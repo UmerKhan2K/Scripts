{
 "cells": [
  {
   "cell_type": "code",
   "execution_count": null,
   "id": "a01bb3e3",
   "metadata": {},
   "outputs": [],
   "source": [
    "from docx import Document\n",
    "\n",
    "def modify_phone_numbers(docx_file):\n",
    "    doc = Document(docx_file)\n",
    "\n",
    "    for paragraph in doc.paragraphs:\n",
    "        # Split the paragraph text by spaces\n",
    "        words = paragraph.text.split()\n",
    "\n",
    "        for i, word in enumerate(words):\n",
    "            # Check if the word is a phone number (11-digit format)\n",
    "            if len(word) == 11:\n",
    "                # Insert a space after the fourth digit\n",
    "                words[i] = word[:4] + ' ' + word[4:]\n",
    "\n",
    "        # Join the modified words and update the paragraph text\n",
    "        paragraph.text = ' '.join(words)\n",
    "\n",
    "    # Save the modified document\n",
    "    modified_docx_file = docx_file.replace('.docx', '_modified.docx')\n",
    "    doc.save(modified_docx_file)\n",
    "\n",
    "    print(f\"Modified document saved as: {modified_docx_file}\")\n",
    "\n",
    "# Provide the path to your DOCX file\n",
    "docx_file_path = 'path/to/your/file.docx'\n",
    "\n",
    "# Call the function to modify phone number format\n",
    "modify_phone_numbers('contacts.docx')\n"
   ]
  }
 ],
 "metadata": {
  "kernelspec": {
   "display_name": "Python 3 (ipykernel)",
   "language": "python",
   "name": "python3"
  },
  "language_info": {
   "codemirror_mode": {
    "name": "ipython",
    "version": 3
   },
   "file_extension": ".py",
   "mimetype": "text/x-python",
   "name": "python",
   "nbconvert_exporter": "python",
   "pygments_lexer": "ipython3",
   "version": "3.9.7"
  }
 },
 "nbformat": 4,
 "nbformat_minor": 5
}
